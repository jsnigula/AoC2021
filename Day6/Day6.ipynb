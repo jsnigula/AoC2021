{
 "cells": [
  {
   "cell_type": "code",
   "execution_count": 1,
   "id": "42764c80",
   "metadata": {},
   "outputs": [],
   "source": [
    "import numpy as np"
   ]
  },
  {
   "cell_type": "code",
   "execution_count": 7,
   "id": "3b628c55",
   "metadata": {},
   "outputs": [],
   "source": [
    "def n_spawned(spawndays, lvl=1):\n",
    "    \n",
    "    n_fish = len(spawndays)\n",
    "    if lvl == 1:\n",
    "        n_fish += 1\n",
    "\n",
    "    #print('lvl', lvl, 'spd', spawndays)\n",
    "    #print('lvl', lvl, 'n ', n_fish, 'next', d_next_spawn, 'now', d_spawn)\n",
    "    \n",
    "    for d in spawndays:\n",
    "        new_spawndays = [i+9 for i in range(d, maxdays-8, 7)]\n",
    "        n_fish += n_spawned(new_spawndays, lvl=lvl+1)\n",
    "\n",
    "    # print('N', lvl, n_fish)\n",
    "    return n_fish"
   ]
  },
  {
   "cell_type": "code",
   "execution_count": 9,
   "id": "cb722be1",
   "metadata": {},
   "outputs": [],
   "source": [
    "def n_fish(maxdays):\n",
    "    spawned = {}\n",
    "\n",
    "    for i in [1,2,3,4,5,6]:\n",
    "        n_spawn = np.array([0]*maxdays)\n",
    "        n_spawn[[d for d in range(i, maxdays, 7)]] += 1\n",
    "    \n",
    "        # print('i', i)\n",
    "        for d, n in enumerate(n_spawn):\n",
    "            # print(d, n, n_spawn)\n",
    "            if n > 0:\n",
    "                # print(i, [i+9 for i in range(d, maxdays-9, 7)])\n",
    "\n",
    "                n_spawn[[i+9 for i in range(d, maxdays-9, 7)]] += n\n",
    "                # print(i, [i+9 for i in range(d, maxdays-9, 7)])\n",
    "\n",
    "        # print(i, n_spawn)\n",
    "        spawned[i] = sum(n_spawn)+1\n",
    "    \n",
    "    n_fish = 0\n",
    "\n",
    "    for fish in input:\n",
    "        n_fish += spawned[int(fish)]\n",
    "\n",
    "    print('N fish: ', n_fish)"
   ]
  },
  {
   "cell_type": "code",
   "execution_count": 12,
   "id": "768366aa",
   "metadata": {},
   "outputs": [
    {
     "name": "stdout",
     "output_type": "stream",
     "text": [
      "Part1 80 days\n",
      "N fish:  380758\n",
      "\n",
      "\n",
      "Part1 256 days\n",
      "N fish:  1710623015163\n"
     ]
    }
   ],
   "source": [
    "with open('input6.txt', 'r') as inf:\n",
    "    input = inf.readline().split(',')\n",
    "\n",
    "print('Part1 80 days')\n",
    "n_fish(80)\n",
    "\n",
    "print('\\n')\n",
    "\n",
    "print('Part1 256 days')\n",
    "n_fish(256)"
   ]
  },
  {
   "cell_type": "code",
   "execution_count": null,
   "id": "1ed6e764",
   "metadata": {},
   "outputs": [],
   "source": []
  }
 ],
 "metadata": {
  "kernelspec": {
   "display_name": "Python 3 (ipykernel)",
   "language": "python",
   "name": "python3"
  },
  "language_info": {
   "codemirror_mode": {
    "name": "ipython",
    "version": 3
   },
   "file_extension": ".py",
   "mimetype": "text/x-python",
   "name": "python",
   "nbconvert_exporter": "python",
   "pygments_lexer": "ipython3",
   "version": "3.10.4"
  }
 },
 "nbformat": 4,
 "nbformat_minor": 5
}

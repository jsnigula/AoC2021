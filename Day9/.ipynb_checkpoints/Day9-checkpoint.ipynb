{
 "cells": [
  {
   "cell_type": "code",
   "execution_count": 1,
   "id": "7ed3e83d",
   "metadata": {},
   "outputs": [],
   "source": [
    "import numpy as np"
   ]
  },
  {
   "cell_type": "code",
   "execution_count": 3,
   "id": "962deee6",
   "metadata": {},
   "outputs": [
    {
     "name": "stdout",
     "output_type": "stream",
     "text": [
      "Risk level: 591\n",
      "Number of low points 230\n",
      "Size: 1113424\n"
     ]
    }
   ],
   "source": [
    "raw_data = []\n",
    "\n",
    "with open('input9.txt', 'r') as inf:\n",
    "    for line in inf.readlines():\n",
    "        raw_line = [int(i) for i in line.strip()]\n",
    "        raw_data.append(raw_line)\n",
    "\n",
    "# Create the data array, and pad it with 9s\n",
    "data = np.full((len(raw_data)+2, len(raw_data[0])+2), 9)\n",
    "\n",
    "data[1:len(raw_data)+1,1:len(raw_data[0])+1] = np.array(raw_data)\n",
    "\n",
    "low_points = []\n",
    "total = 0\n",
    "test_y, test_x = np.where(data < 9)\n",
    "for y, x in zip(test_y, test_x):\n",
    "    box = data[y-1:y+2, x-1:x+2]\n",
    "    w_x, w_y = np.where(box == box.min())\n",
    "    if len(w_x) > 1:\n",
    "        continue\n",
    "    if (w_x, w_y) == ([1], [1]):\n",
    "        # print('Box,', box)\n",
    "        # print(x, y, data[y,x])\n",
    "        total += data[y,x] + 1\n",
    "        low_points.append((y,x))\n",
    "        \n",
    "print('Risk level:', total)\n",
    "print('Number of low points', len(low_points))\n",
    "        \n",
    "checked = np.zeros(data.shape)\n",
    "\n",
    "checked[np.where(data == 9)] = 1\n",
    "\n",
    "def crawl_basin(y, x, checked):\n",
    "\n",
    "    basin_size = 1\n",
    "    checked[y,x] = 1\n",
    "    for i, j in [(-1, 0), (1, 0), (0, -1), (0, 1)]:\n",
    "        if checked[y+i, x+j] != 1:\n",
    "            basin_size += crawl_basin(y+i, x+j, checked)\n",
    "                \n",
    "    return basin_size\n",
    "\n",
    "    \n",
    "basin_sizes = []\n",
    "for y_s, x_s in low_points:\n",
    "    size = crawl_basin(y_s, x_s, checked)\n",
    "    basin_sizes.append(size)\n",
    "            \n",
    "sizes = sorted(basin_sizes)\n",
    "print('Size:', sizes[-1] * sizes[-2] * sizes[-3])"
   ]
  },
  {
   "cell_type": "code",
   "execution_count": null,
   "id": "eacc9de3",
   "metadata": {},
   "outputs": [],
   "source": []
  }
 ],
 "metadata": {
  "kernelspec": {
   "display_name": "Python 3 (ipykernel)",
   "language": "python",
   "name": "python3"
  },
  "language_info": {
   "codemirror_mode": {
    "name": "ipython",
    "version": 3
   },
   "file_extension": ".py",
   "mimetype": "text/x-python",
   "name": "python",
   "nbconvert_exporter": "python",
   "pygments_lexer": "ipython3",
   "version": "3.10.4"
  }
 },
 "nbformat": 4,
 "nbformat_minor": 5
}

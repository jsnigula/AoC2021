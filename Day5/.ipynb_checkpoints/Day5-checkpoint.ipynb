{
 "cells": [
  {
   "cell_type": "code",
   "execution_count": 1,
   "id": "5948f7f6",
   "metadata": {},
   "outputs": [],
   "source": [
    "import numpy as np\n",
    "import re"
   ]
  },
  {
   "cell_type": "code",
   "execution_count": 2,
   "id": "99495a14",
   "metadata": {},
   "outputs": [
    {
     "name": "stdout",
     "output_type": "stream",
     "text": [
      "Number of overlaps: 7468\n"
     ]
    }
   ],
   "source": [
    "x = []\n",
    "y = []\n",
    "max_x = 0\n",
    "max_y = 0\n",
    "with open('input5.txt', 'r') as inf:\n",
    "    for line in inf.readlines():\n",
    "        x1, y1, x2, y2 = re.match('(\\d+),(\\d+) -> (\\d+),(\\d+).*', line).groups()\n",
    "        x.append([int(x1), int(x2)])\n",
    "        y.append([int(y1), int(y2)])\n",
    "        \n",
    "xpos = np.array(x)\n",
    "ypos = np.array(y)\n",
    "\n",
    "map = np.zeros((ypos.max()+1, xpos.max()+1))\n",
    "\n",
    "# Now loop over the lines\n",
    "\n",
    "for xp, yp in zip(xpos, ypos):\n",
    "    if yp[0] == yp[1]:\n",
    "        map[yp[0], xp.min():xp.max()+1] += 1\n",
    "    elif xp[0] == xp[1]:\n",
    "        map[yp.min():yp.max()+1, xp[0]] += 1\n",
    "\n",
    "print('Number of overlaps:', map[np.where(map>1)].size)\n"
   ]
  },
  {
   "cell_type": "code",
   "execution_count": 3,
   "id": "e66559bf",
   "metadata": {},
   "outputs": [
    {
     "name": "stdout",
     "output_type": "stream",
     "text": [
      "Number of overlaps: 22364\n"
     ]
    }
   ],
   "source": [
    "x = []\n",
    "y = []\n",
    "max_x = 0\n",
    "max_y = 0\n",
    "with open('input5.txt', 'r') as inf:\n",
    "    for line in inf.readlines():\n",
    "        x1, y1, x2, y2 = re.match('(\\d+),(\\d+) -> (\\d+),(\\d+).*', line).groups()\n",
    "        x.append([int(x1), int(x2)])\n",
    "        y.append([int(y1), int(y2)])\n",
    "        \n",
    "xpos = np.array(x)\n",
    "ypos = np.array(y)\n",
    "\n",
    "map = np.zeros((ypos.max()+1, xpos.max()+1))\n",
    "\n",
    "# Now loop over the lines\n",
    "\n",
    "for xp, yp in zip(xpos, ypos):\n",
    "    if yp[0] == yp[1]:\n",
    "        map[yp[0], xp.min():xp.max()+1] += 1\n",
    "    elif xp[0] == xp[1]:\n",
    "        map[yp.min():yp.max()+1, xp[0]] += 1\n",
    "    else:\n",
    "        dx = 1\n",
    "        dy = 1\n",
    "        if xp[0] > xp[1]:\n",
    "            dx = -1  # Count down\n",
    "        if yp[0] > yp[1]:\n",
    "            dy = -1\n",
    "        \n",
    "        x = xp[0]\n",
    "        y = yp[0]\n",
    "        \n",
    "        while True:\n",
    "            map[y, x] += 1\n",
    "            x += dx\n",
    "            y += dy\n",
    "            \n",
    "            if x==xp[1]:\n",
    "                # Last value\n",
    "                map[y, x] += 1\n",
    "                break\n",
    "\n",
    "print('Number of overlaps:', map[np.where(map>1)].size)"
   ]
  },
  {
   "cell_type": "code",
   "execution_count": null,
   "id": "58dd011f",
   "metadata": {},
   "outputs": [],
   "source": []
  }
 ],
 "metadata": {
  "kernelspec": {
   "display_name": "Python 3 (ipykernel)",
   "language": "python",
   "name": "python3"
  },
  "language_info": {
   "codemirror_mode": {
    "name": "ipython",
    "version": 3
   },
   "file_extension": ".py",
   "mimetype": "text/x-python",
   "name": "python",
   "nbconvert_exporter": "python",
   "pygments_lexer": "ipython3",
   "version": "3.10.4"
  }
 },
 "nbformat": 4,
 "nbformat_minor": 5
}

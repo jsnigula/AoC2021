{
 "cells": [
  {
   "cell_type": "code",
   "execution_count": 1,
   "id": "440e9666",
   "metadata": {},
   "outputs": [],
   "source": [
    "import numpy as np"
   ]
  },
  {
   "cell_type": "code",
   "execution_count": 4,
   "id": "955584ae",
   "metadata": {},
   "outputs": [
    {
     "name": "stdout",
     "output_type": "stream",
     "text": [
      "Efficient:  355521.0\n",
      "Crab Efficient:  100148777.0\n"
     ]
    }
   ],
   "source": [
    "with open('input7.txt', 'r') as inf:\n",
    "    input = [int(i) for i in inf.readline().split(',')]\n",
    "\n",
    "maxp = max(input)\n",
    "\n",
    "fuel = np.zeros(maxp+1)\n",
    "data = np.array(input)\n",
    "\n",
    "for f in range(0, maxp+1):\n",
    "    fuel[f] = int(sum(np.absolute(data - f)))\n",
    "    \n",
    "print('Efficient: ', fuel.min())\n",
    "\n",
    "fuel = np.zeros(maxp+1)\n",
    "data = np.array(input)\n",
    "\n",
    "for f in range(0, maxp+1):\n",
    "    dist = np.absolute(data - f)\n",
    "    fuel[f] = int(sum((dist * (dist+1) / 2)))\n",
    "    \n",
    "print('Crab Efficient: ', fuel.min())"
   ]
  },
  {
   "cell_type": "code",
   "execution_count": null,
   "id": "81bb7568",
   "metadata": {},
   "outputs": [],
   "source": []
  }
 ],
 "metadata": {
  "kernelspec": {
   "display_name": "Python 3 (ipykernel)",
   "language": "python",
   "name": "python3"
  },
  "language_info": {
   "codemirror_mode": {
    "name": "ipython",
    "version": 3
   },
   "file_extension": ".py",
   "mimetype": "text/x-python",
   "name": "python",
   "nbconvert_exporter": "python",
   "pygments_lexer": "ipython3",
   "version": "3.10.4"
  }
 },
 "nbformat": 4,
 "nbformat_minor": 5
}

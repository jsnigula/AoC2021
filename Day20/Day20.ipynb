{
 "cells": [
  {
   "cell_type": "code",
   "execution_count": 1,
   "id": "44afc749",
   "metadata": {},
   "outputs": [],
   "source": [
    "import numpy as np"
   ]
  },
  {
   "cell_type": "code",
   "execution_count": 42,
   "id": "cb7f3683",
   "metadata": {},
   "outputs": [
    {
     "name": "stdout",
     "output_type": "stream",
     "text": [
      "3351.0\n"
     ]
    }
   ],
   "source": [
    "def decode(indata, algorithm):\n",
    "    \n",
    "    n_y = indata.shape[0]\n",
    "    n_x = indata.shape[1]\n",
    "    # Create the data array, and pad it with 0s\n",
    "    data = np.zeros((n_y+4, n_x+4), dtype=int)\n",
    "    data[2:n_y+2,2:n_x+2] = indata\n",
    "    \n",
    "    output = np.zeros(data.shape)\n",
    "        \n",
    "    for y in range(1, data.shape[0]-1):\n",
    "        for x in range(1, data.shape[1]-1):\n",
    "            idxstr = ''\n",
    "            for i in (-1, 0, 1):\n",
    "                for j in (-1, 0, 1):\n",
    "                    idxstr += str(data[y+i, x+j])\n",
    "            idx = int(idxstr, 2)\n",
    "            output[y, x] = algorithm[idx]\n",
    "\n",
    "    return output\n",
    "\n",
    "raw_data = []\n",
    "with open('input20a.txt', 'r') as inf:\n",
    "    algo = [1 if c == '#' else 0 for c in inf.readline().strip()]\n",
    "    inf.readline()\n",
    "    for line in inf.readlines():\n",
    "        raw_data.append([1 if c == '#' else 0 for c in line.strip()])\n",
    "\n",
    "data = np.array(raw_data)\n",
    "\n",
    "#for y in range(data.shape[0]):\n",
    "#    print(''.join('#' if i == 1 else '.' for i in data[y,:]))\n",
    "#print('\\n')\n",
    "for i in range(50):\n",
    "    data = decode(data, algo)\n",
    "    #for y in range(data.shape[0]):\n",
    "    #    print(''.join('#' if i == 1 else '.' for i in data[y,:]))\n",
    "    #print('\\n')\n",
    "    \n",
    "print(np.sum(data))"
   ]
  },
  {
   "cell_type": "code",
   "execution_count": null,
   "id": "6badaf74",
   "metadata": {},
   "outputs": [],
   "source": []
  },
  {
   "cell_type": "code",
   "execution_count": null,
   "id": "4a765ce3",
   "metadata": {},
   "outputs": [],
   "source": []
  }
 ],
 "metadata": {
  "kernelspec": {
   "display_name": "Python 3 (ipykernel)",
   "language": "python",
   "name": "python3"
  },
  "language_info": {
   "codemirror_mode": {
    "name": "ipython",
    "version": 3
   },
   "file_extension": ".py",
   "mimetype": "text/x-python",
   "name": "python",
   "nbconvert_exporter": "python",
   "pygments_lexer": "ipython3",
   "version": "3.10.4"
  }
 },
 "nbformat": 4,
 "nbformat_minor": 5
}

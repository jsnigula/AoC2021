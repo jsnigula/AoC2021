{
 "cells": [
  {
   "cell_type": "code",
   "execution_count": 4,
   "id": "adfb491c",
   "metadata": {},
   "outputs": [
    {
     "name": "stdout",
     "output_type": "stream",
     "text": [
      "Pos: 717 2024 Result 1451208\n",
      "HPos: 2024 Depth 800465 Result 1620141160\n"
     ]
    }
   ],
   "source": [
    "import numpy as np\n",
    "\n",
    "with open('input2.txt', 'r') as inf:\n",
    "    data = [line.strip() for line in inf]\n",
    "    \n",
    "dirmap = {'forward': np.array([0,1]),\n",
    "         'up': np.array([-1,0]),\n",
    "         'down': np.array([1,0])} \n",
    "\n",
    "pos = np.array([0,0])\n",
    "\n",
    "for instr in data:\n",
    "    direct, v = instr.split()\n",
    "    pos += int(v) * dirmap[direct]\n",
    "    \n",
    "print('Pos:', pos[0], pos[1], 'Result', pos[0]*pos[1])\n",
    "\n",
    "# Part 2\n",
    "\n",
    "aim = 0\n",
    "depth = 0\n",
    "hpos = 0\n",
    "\n",
    "for instr in data:\n",
    "    direct, v = instr.split()\n",
    "    if direct == 'down':\n",
    "        aim += int(v)\n",
    "    elif direct == 'up':\n",
    "        aim -= int(v)\n",
    "    else:\n",
    "        hpos += int(v)\n",
    "        depth += aim*int(v)\n",
    "    \n",
    "print('HPos:', hpos, 'Depth', depth, 'Result', hpos*depth)\n"
   ]
  },
  {
   "cell_type": "code",
   "execution_count": null,
   "id": "2164c1ea",
   "metadata": {},
   "outputs": [],
   "source": []
  }
 ],
 "metadata": {
  "kernelspec": {
   "display_name": "Python 3 (ipykernel)",
   "language": "python",
   "name": "python3"
  },
  "language_info": {
   "codemirror_mode": {
    "name": "ipython",
    "version": 3
   },
   "file_extension": ".py",
   "mimetype": "text/x-python",
   "name": "python",
   "nbconvert_exporter": "python",
   "pygments_lexer": "ipython3",
   "version": "3.10.4"
  }
 },
 "nbformat": 4,
 "nbformat_minor": 5
}

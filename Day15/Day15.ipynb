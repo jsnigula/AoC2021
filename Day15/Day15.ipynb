{
 "cells": [
  {
   "cell_type": "code",
   "execution_count": 1,
   "id": "da4baa27",
   "metadata": {},
   "outputs": [],
   "source": [
    "import numpy as np\n",
    "import copy\n",
    "import random"
   ]
  },
  {
   "cell_type": "code",
   "execution_count": 2,
   "id": "6f50b839",
   "metadata": {},
   "outputs": [
    {
     "name": "stdout",
     "output_type": "stream",
     "text": [
      "540\n"
     ]
    }
   ],
   "source": [
    "raw_data = []\n",
    "\n",
    "with open('input15.txt', 'r') as inf:\n",
    "    for line in inf.readlines():\n",
    "        raw_data.append([int(i) for i in line.strip()])\n",
    "        \n",
    "\n",
    "data = np.array(raw_data)\n",
    "\n",
    "risk_map = np.zeros((data.shape[0]+2, data.shape[1]+2), dtype=int)\n",
    "risk_map[:,:] = 1e10\n",
    "risk_map[1,1] = 0\n",
    "\n",
    "last_sum = 9e20\n",
    "sum = 1e20\n",
    "\n",
    "while sum < last_sum:\n",
    "    for x in range(1, data.shape[0]+1):\n",
    "        for y in range(1, data.shape[1]+1):\n",
    "            # print(y,x)\n",
    "            if y== 1 and x == 1:\n",
    "                risk_map[1,1] = 0\n",
    "            else:\n",
    "                risk_map[y, x] = min(risk_map[y-1, x], risk_map[y, x-1], \n",
    "                                     risk_map[y+1, x], risk_map[y, x+1],\n",
    "                                     risk_map[y,x]) +  data[y-1,x-1]\n",
    "\n",
    "    risk_map[1,1] = 0\n",
    "    #print(risk_map[-2,-2])\n",
    "\n",
    "    #print(np.sum(risk_map))\n",
    "    last_sum = sum\n",
    "    sum = np.sum(risk_map)\n",
    "    #print(risk_map[-10:,0:10])\n",
    "    \n",
    "# print(sum, last_sum)\n",
    "print(risk_map[-2,-2])"
   ]
  },
  {
   "cell_type": "code",
   "execution_count": 4,
   "id": "45f7fb19",
   "metadata": {},
   "outputs": [
    {
     "name": "stdout",
     "output_type": "stream",
     "text": [
      "2879\n"
     ]
    }
   ],
   "source": [
    "# Part2\n",
    "\n",
    "raw_data = []\n",
    "\n",
    "with open('input15.txt', 'r') as inf:\n",
    "    for line in inf.readlines():\n",
    "        raw_data.append([int(i) for i in line.strip()])\n",
    "        \n",
    "\n",
    "in_data = np.array(raw_data) \n",
    "\n",
    "ny = in_data.shape[0]\n",
    "nx = in_data.shape[1]\n",
    "\n",
    "data = np.zeros((in_data.shape[0]*5, in_data.shape[1]*5))\n",
    "\n",
    "data[0:ny, 0:nx] = in_data\n",
    "\n",
    "for x in range(0, 5):\n",
    "    for y in range(0, 4):\n",
    "    \n",
    "        temp_data = data[y*ny:(y+1)*ny, x:(x+1)*nx] + 1\n",
    "        temp_data[np.where(temp_data > 9)] = 1\n",
    "        data[(y+1)*ny:(y+2)*ny, x:(x+1)*nx] = temp_data\n",
    "\n",
    "    if x < 4:\n",
    "        data[0:ny, (x+1)*nx:(x+2)*nx] = data[ny:2*ny, x*nx:(x+1)*nx]\n",
    "    \n",
    "risk_map = np.zeros((data.shape[0]+2, data.shape[1]+2), dtype=int)\n",
    "risk_map[:,:] = 1e10\n",
    "risk_map[1,1] = 0\n",
    "\n",
    "last_val = 9e20\n",
    "val = 1e20\n",
    "\n",
    "while val < last_val:\n",
    "    for x in range(1, data.shape[0]+1):\n",
    "        for y in range(1, data.shape[1]+1):\n",
    "            # print(y,x)\n",
    "            if y== 1 and x == 1:\n",
    "                risk_map[1,1] = 0\n",
    "            else:\n",
    "                risk_map[y, x] = min(risk_map[y-1, x], risk_map[y, x-1], \n",
    "                                     risk_map[y+1, x], risk_map[y, x+1],\n",
    "                                     risk_map[y,x]) +  data[y-1,x-1]\n",
    "\n",
    "    risk_map[1,1] = 0\n",
    "\n",
    "    last_val = val\n",
    "    val = risk_map[-2,-2]\n",
    "\n",
    "print(risk_map[-2,-2])"
   ]
  },
  {
   "cell_type": "code",
   "execution_count": null,
   "id": "dfb18b94",
   "metadata": {},
   "outputs": [],
   "source": []
  }
 ],
 "metadata": {
  "kernelspec": {
   "display_name": "Python 3 (ipykernel)",
   "language": "python",
   "name": "python3"
  },
  "language_info": {
   "codemirror_mode": {
    "name": "ipython",
    "version": 3
   },
   "file_extension": ".py",
   "mimetype": "text/x-python",
   "name": "python",
   "nbconvert_exporter": "python",
   "pygments_lexer": "ipython3",
   "version": "3.10.4"
  }
 },
 "nbformat": 4,
 "nbformat_minor": 5
}

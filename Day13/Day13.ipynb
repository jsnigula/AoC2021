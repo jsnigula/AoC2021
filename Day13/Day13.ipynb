{
 "cells": [
  {
   "cell_type": "code",
   "execution_count": 1,
   "id": "6cde8a5c",
   "metadata": {},
   "outputs": [],
   "source": [
    "import numpy as np"
   ]
  },
  {
   "cell_type": "code",
   "execution_count": 4,
   "id": "989b767a",
   "metadata": {},
   "outputs": [
    {
     "name": "stdout",
     "output_type": "stream",
     "text": [
      "After fold 1 there are  618 dots\n",
      "After fold 2 there are  532 dots\n",
      "After fold 3 there are  446 dots\n",
      "After fold 4 there are  373 dots\n",
      "After fold 5 there are  315 dots\n",
      "After fold 6 there are  269 dots\n",
      "After fold 7 there are  227 dots\n",
      "After fold 8 there are  189 dots\n",
      "After fold 9 there are  152 dots\n",
      "After fold 10 there are  131 dots\n",
      "After fold 11 there are  111 dots\n",
      "After fold 12 there are  98 dots\n",
      " ##  #    ###  #### #  # #### #  # #  # \n",
      "#  # #    #  # #    # #  #    # #  #  # \n",
      "#  # #    #  # ###  ##   ###  ##   #  # \n",
      "#### #    ###  #    # #  #    # #  #  # \n",
      "#  # #    # #  #    # #  #    # #  #  # \n",
      "#  # #### #  # #### #  # #    #  #  ##  \n"
     ]
    }
   ],
   "source": [
    "dots = []\n",
    "folds = []\n",
    "max_x = 0\n",
    "max_y = 0\n",
    "\n",
    "with open('input13.txt', 'r') as inf:\n",
    "    for line in inf.readlines():\n",
    "        if line.strip() == '':\n",
    "            continue\n",
    "        elif 'fold along' in line:\n",
    "            folds.append(line.strip().split()[2])\n",
    "        else:\n",
    "            new_dot = [int(i) for i in line.strip().split(',')]\n",
    "            max_x = max(max_x, new_dot[0])\n",
    "            max_y = max(max_y, new_dot[1])\n",
    "            dots.append(new_dot)\n",
    "        \n",
    "            \n",
    "# assemble the page\n",
    "\n",
    "page = np.zeros((max_y+1, max_x+1), dtype = int)\n",
    "\n",
    "for d in dots:\n",
    "    page[d[1], d[0]] = 1\n",
    "    \n",
    "# print(page)\n",
    "\n",
    "for i, fold in enumerate(folds):\n",
    "    direct, fline = fold.split('=')\n",
    "    fline = int(fline)\n",
    "    \n",
    "    if direct == 'y':        \n",
    "        newpage = page[0:fline,:]\n",
    "        newpage[(fline - (max_y-fline)):,:] += page[fline+1:,:][::-1,:]\n",
    "        page = newpage\n",
    "    else:\n",
    "        newpage = page[:,0:fline]\n",
    "        newpage[:,(fline - (max_x-fline)):] += page[:,fline+1:][:,::-1]\n",
    "        page = newpage\n",
    "        \n",
    "    page[np.where(page > 1)] = 1\n",
    "\n",
    "    print('After fold', i+1, 'there are ', np.sum(page), 'dots')\n",
    "\n",
    "for l in range(0, page.shape[0]):\n",
    "    line = ''\n",
    "    for c in page[l]:\n",
    "        line += '#' if c else ' '\n",
    "        \n",
    "    print(line)"
   ]
  },
  {
   "cell_type": "code",
   "execution_count": null,
   "id": "5b37192b",
   "metadata": {},
   "outputs": [],
   "source": []
  }
 ],
 "metadata": {
  "kernelspec": {
   "display_name": "Python 3 (ipykernel)",
   "language": "python",
   "name": "python3"
  },
  "language_info": {
   "codemirror_mode": {
    "name": "ipython",
    "version": 3
   },
   "file_extension": ".py",
   "mimetype": "text/x-python",
   "name": "python",
   "nbconvert_exporter": "python",
   "pygments_lexer": "ipython3",
   "version": "3.10.4"
  }
 },
 "nbformat": 4,
 "nbformat_minor": 5
}

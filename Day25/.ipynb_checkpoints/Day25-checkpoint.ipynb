{
 "cells": [
  {
   "cell_type": "code",
   "execution_count": 1,
   "id": "67a01af2",
   "metadata": {},
   "outputs": [],
   "source": [
    "import numpy as np"
   ]
  },
  {
   "cell_type": "code",
   "execution_count": 4,
   "id": "a74e12f4",
   "metadata": {},
   "outputs": [
    {
     "name": "stdout",
     "output_type": "stream",
     "text": [
      "513\n"
     ]
    }
   ],
   "source": [
    "raw_data = []\n",
    "with open('input25.txt') as inf:\n",
    "    for line in inf.readlines():\n",
    "        raw_data.append([c for c in line.strip()])\n",
    "    \n",
    "data = np.array(raw_data)\n",
    "\n",
    "# print(data)\n",
    "\n",
    "done = False\n",
    "steps = 0\n",
    "\n",
    "shifted_y = np.append(np.arange(1, data.shape[0]), 0)\n",
    "shifted_y_back = np.append(data.shape[0]-1, np.arange(0, data.shape[0]-1))\n",
    "\n",
    "shifted_x = np.append(np.arange(1, data.shape[1]), 0)\n",
    "shifted_x_back = np.append(data.shape[1]-1, np.arange(0, data.shape[1]-1))\n",
    "\n",
    "# print(shifted_y, shifted_y_back, shifted_x, shifted_x_back)\n",
    "no_moves = 0\n",
    "while not done:\n",
    "    steps += 1\n",
    "    # print(steps)\n",
    "    \n",
    "    w = np.where((data == '>') & (data[:, shifted_x] == '.'))\n",
    "    # print(w, w[0], w[0].size)\n",
    "    \n",
    "    if w[0].size > 0:\n",
    "        data[w] = '.'\n",
    "        data = data[:, shifted_x]\n",
    "        data[w] = '>'\n",
    "        data = data[:, shifted_x_back]\n",
    "    \n",
    "    no_moves_right = (w[0].size == 0)\n",
    "\n",
    "    w = np.where((data == 'v') & (data[shifted_y, :] == '.'))\n",
    "    # print(w, w[0], w[0].size)\n",
    "    \n",
    "    if w[0].size > 0:\n",
    "        data[w] = '.'\n",
    "        data = data[shifted_y, :]\n",
    "        data[w] = 'v'\n",
    "        data = data[shifted_y_back, :]\n",
    "\n",
    "    no_moves_down = (w[0].size == 0)\n",
    "\n",
    "    # print(no_moves_down, no_moves_right)\n",
    "    if no_moves_down and no_moves_right:\n",
    "        break\n",
    "        no_moves += 1\n",
    "    else:\n",
    "        no_moves = 0\n",
    "        \n",
    "    if no_moves == 2:\n",
    "        break\n",
    "\n",
    "# print(data)\n",
    "\n",
    "print(steps)\n"
   ]
  },
  {
   "cell_type": "code",
   "execution_count": null,
   "id": "f1c378c2",
   "metadata": {},
   "outputs": [],
   "source": []
  }
 ],
 "metadata": {
  "kernelspec": {
   "display_name": "Python 3 (ipykernel)",
   "language": "python",
   "name": "python3"
  },
  "language_info": {
   "codemirror_mode": {
    "name": "ipython",
    "version": 3
   },
   "file_extension": ".py",
   "mimetype": "text/x-python",
   "name": "python",
   "nbconvert_exporter": "python",
   "pygments_lexer": "ipython3",
   "version": "3.10.4"
  }
 },
 "nbformat": 4,
 "nbformat_minor": 5
}

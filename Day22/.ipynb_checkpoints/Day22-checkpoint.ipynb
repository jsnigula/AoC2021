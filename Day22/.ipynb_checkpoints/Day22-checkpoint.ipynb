{
 "cells": [
  {
   "cell_type": "code",
   "execution_count": 1,
   "metadata": {},
   "outputs": [],
   "source": [
    "import numpy as np\n",
    "import re"
   ]
  },
  {
   "cell_type": "code",
   "execution_count": 33,
   "metadata": {},
   "outputs": [],
   "source": [
    "def read_data(fname):\n",
    "    sequence = []\n",
    "\n",
    "    with open(fname) as inf:\n",
    "        for line in inf.readlines():\n",
    "            match = re.match(r'^(on|off) x=(-?\\d+)\\.\\.(-?\\d+),y=(-?\\d+)\\.\\.(-?\\d+),z=(-?\\d+)\\.\\.(-?\\d+)', \n",
    "                             line.strip())\n",
    "            mg = match.groups()\n",
    "\n",
    "            range_data = [(mg[0] == 'on')]\n",
    "            for i in range(1, 7):\n",
    "                v = int(mg[i])\n",
    "                if i in (2, 4, 6):\n",
    "                    v += 1\n",
    "                range_data.append(v)\n",
    "            sequence.append(range_data)\n",
    "    return sequence"
   ]
  },
  {
   "cell_type": "markdown",
   "metadata": {},
   "source": [
    "**Part 1**"
   ]
  },
  {
   "cell_type": "code",
   "execution_count": 38,
   "metadata": {},
   "outputs": [
    {
     "name": "stdout",
     "output_type": "stream",
     "text": [
      "648681\n"
     ]
    }
   ],
   "source": [
    "data = np.zeros((100, 100, 100), dtype=bool)\n",
    "\n",
    "sequence = read_data('input22.txt')\n",
    "for r in sequence:\n",
    "    ignore = False\n",
    "    for v in r[1:]:\n",
    "        if v < -50 or v > 50:\n",
    "            ignore = True\n",
    "            break\n",
    "            \n",
    "    if not ignore:\n",
    "        onoff, minx, maxx, miny, maxy, minz, maxz = r\n",
    "                         \n",
    "        data[minx+50:maxx+50, miny+50:maxy+50, minz+50:maxz+50] = onoff\n",
    "\n",
    "print(data[np.where(data == True)].size)"
   ]
  },
  {
   "cell_type": "code",
   "execution_count": 35,
   "metadata": {},
   "outputs": [],
   "source": [
    "class Cube():\n",
    "    \n",
    "    def __init__(self, cube, minx=None, maxx=None, miny=None, \n",
    "                 maxy=None, minz=None, maxz=None):\n",
    "        if isinstance(cube, list):\n",
    "            self.state = cube[0]\n",
    "            self.minx = cube[1]\n",
    "            self.maxx = cube[2]\n",
    "            self.miny = cube[3]\n",
    "            self.maxy = cube[4]\n",
    "            self.minz = cube[5]\n",
    "            self.maxz = cube[6]\n",
    "        else:\n",
    "            self.state = cube.state\n",
    "            self.minx = cube.minx\n",
    "            self.maxx = cube.maxx\n",
    "            self.miny = cube.miny\n",
    "            self.maxy = cube.maxy\n",
    "            self.minz = cube.minz\n",
    "            self.maxz = cube.maxz\n",
    "\n",
    "        if minx is not None:\n",
    "            self.minx = minx\n",
    "        if maxx is not None:\n",
    "            self.maxx = maxx\n",
    "        if miny is not None:\n",
    "            self.miny = miny\n",
    "        if maxy is not None:\n",
    "            self.maxy = maxy\n",
    "        if minz is not None:\n",
    "            self.minz = minz\n",
    "        if maxz is not None:\n",
    "            self.maxz = maxz\n",
    "            \n",
    "    def __repr__(self):\n",
    "        return f'Cube({self.state}, ({self.minx, self.maxx}), ({self.miny}, {self.maxy}), ({self.minz}, {self.maxz})'\n",
    "        \n",
    "    def empty(self):\n",
    "        return (self.minx == self.maxx or self.miny==self.maxy or self.minz==self.maxz)\n",
    "    \n",
    "    def nElements(self):\n",
    "        return (self.maxx - self.minx) * (self.maxy - self.miny) * (self.maxz - self.minz)\n",
    "    \n",
    "    def isOn(self):\n",
    "        return self.state\n",
    "    \n",
    "def intersect(c1, c2):\n",
    "    i_x = c1.maxx >= c2.minx and c1.minx <= c2.maxx\n",
    "    i_y = c1.maxy >= c2.miny and c1.miny <= c2.maxy\n",
    "    i_z = c1.maxz >= c2.minz and c1.minz <= c2.maxz\n",
    "\n",
    "    return i_x and i_y and i_z\n",
    "\n",
    "def subtract(c1, c2):\n",
    "    if not intersect(c1, c2):\n",
    "        return [c1]\n",
    "    \n",
    "    c3_minx = max(c1.minx, c2.minx)\n",
    "    c3_maxx = min(c1.maxx, c2.maxx)\n",
    "    c3_miny = max(c1.miny, c2.miny)\n",
    "    c3_maxy = min(c1.maxy, c2.maxy)\n",
    "    c3_minz = max(c1.minz, c2.minz)\n",
    "    c3_maxz = min(c1.maxz, c2.maxz)\n",
    "\n",
    "    cube_list = [Cube(c1, maxz=c3_minz),\n",
    "                 Cube(c1, minz=c3_maxz),\n",
    "                 Cube([c1.state, c3_minx, c1.maxx, c1.miny, c3_miny, c3_minz, c3_maxz]),\n",
    "                 Cube([c1.state, c3_maxx, c1.maxx, c3_miny, c1.maxy, c3_minz, c3_maxz]),\n",
    "                 Cube([c1.state, c1.minx, c3_maxx, c3_maxy, c1.maxy, c3_minz, c3_maxz]),\n",
    "                 Cube([c1.state, c1.minx, c3_minx, c1.miny, c3_maxy, c3_minz, c3_maxz])]\n",
    "    \n",
    "    return [c for c in cube_list if not c.empty()]\n",
    "    \n"
   ]
  },
  {
   "cell_type": "code",
   "execution_count": 36,
   "metadata": {},
   "outputs": [
    {
     "name": "stdout",
     "output_type": "stream",
     "text": [
      "Cube(True, ((10, 13)), (10, 13), (10, 11) False True 9\n",
      "Cube(True, ((11, 13)), (10, 11), (11, 13) False True 4\n",
      "Cube(True, ((10, 11)), (10, 13), (11, 13) False True 6\n"
     ]
    }
   ],
   "source": [
    "c1 = Cube([True, 10, 12+1, 10, 12+1, 10, 12+1])\n",
    "c2 = Cube([False, 11, 13+1, 11, 13+1, 11, 13+1])\n",
    "\n",
    "for c in subtract(c1, c2):\n",
    "    print(c, c.empty(), c.isOn(), c.nElements())\n"
   ]
  },
  {
   "cell_type": "code",
   "execution_count": 37,
   "metadata": {},
   "outputs": [
    {
     "name": "stdout",
     "output_type": "stream",
     "text": [
      "648681\n"
     ]
    }
   ],
   "source": [
    "sequence = read_data('input22.txt')\n",
    "cube_list = []\n",
    "for r in sequence:\n",
    "    ignore = False\n",
    "    for v in r[1:]:\n",
    "        if v < -50 or v > 50:\n",
    "            ignore = True\n",
    "            break\n",
    "            \n",
    "    if not ignore:\n",
    "        next_cube = Cube(r)\n",
    "        new_cubes = []\n",
    "        for c in cube_list:\n",
    "            new_cubes += subtract(c, next_cube)\n",
    "        cube_list = new_cubes + [next_cube]\n",
    "                         \n",
    "nOn = 0\n",
    "for c in cube_list:\n",
    "    if c.isOn():\n",
    "        nOn += c.nElements()\n",
    "        \n",
    "print(nOn)"
   ]
  },
  {
   "cell_type": "code",
   "execution_count": 40,
   "metadata": {},
   "outputs": [
    {
     "name": "stdout",
     "output_type": "stream",
     "text": [
      "1302784472088899\n"
     ]
    }
   ],
   "source": [
    "sequence = read_data('input22.txt')\n",
    "cube_list = []\n",
    "for r in sequence:\n",
    "    next_cube = Cube(r)\n",
    "    new_cubes = []\n",
    "    for c in cube_list:\n",
    "        new_cubes += subtract(c, next_cube)\n",
    "    cube_list = new_cubes + [next_cube]\n",
    "                         \n",
    "nOn = 0\n",
    "for c in cube_list:\n",
    "    if c.isOn():\n",
    "        nOn += c.nElements()\n",
    "        \n",
    "print(nOn)"
   ]
  },
  {
   "cell_type": "code",
   "execution_count": null,
   "metadata": {},
   "outputs": [],
   "source": []
  }
 ],
 "metadata": {
  "kernelspec": {
   "display_name": "Python 3 (ipykernel)",
   "language": "python",
   "name": "python3"
  },
  "language_info": {
   "codemirror_mode": {
    "name": "ipython",
    "version": 3
   },
   "file_extension": ".py",
   "mimetype": "text/x-python",
   "name": "python",
   "nbconvert_exporter": "python",
   "pygments_lexer": "ipython3",
   "version": "3.10.4"
  }
 },
 "nbformat": 4,
 "nbformat_minor": 4
}

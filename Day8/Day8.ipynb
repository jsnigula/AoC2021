{
 "cells": [
  {
   "cell_type": "code",
   "execution_count": 1,
   "id": "7c79fb91",
   "metadata": {},
   "outputs": [],
   "source": [
    "from collections import defaultdict"
   ]
  },
  {
   "cell_type": "code",
   "execution_count": 3,
   "id": "17484d10",
   "metadata": {},
   "outputs": [
    {
     "name": "stdout",
     "output_type": "stream",
     "text": [
      "Found  272 \n",
      "\n",
      "Part 2\n",
      "\n",
      "Total 1007675\n"
     ]
    }
   ],
   "source": [
    "signals = []\n",
    "outputs = []\n",
    "with open('input8.txt', 'r') as inf:\n",
    "    for line in inf.readlines():\n",
    "        signals_in, outputs_in = line.split('|')\n",
    "        signals.append([''.join(sorted([c for c in s])) for s in signals_in.split()])\n",
    "        outputs.append([''.join(sorted([c for c in s])) for s in outputs_in.split()])\n",
    "\n",
    "c=0\n",
    "for o in outputs:\n",
    "    for d in o:\n",
    "        if len(d) in (2, 4, 3, 7):\n",
    "            c+=1\n",
    "        \n",
    "print('Found ', c, '\\n')\n",
    "\n",
    "print('Part 2\\n')\n",
    "\n",
    "total = 0\n",
    "\n",
    "for sigline, outline in zip(signals, outputs):\n",
    "\n",
    "    len_map = defaultdict(list)\n",
    "    for s in sigline:\n",
    "        key = ''.join(sorted([c for c in s]))\n",
    "        len_map[len(s)].append(key)\n",
    "\n",
    "    keymap = {}\n",
    "    r_keymap = {}\n",
    "    # Fill in the given ones\n",
    "    keymap[len_map[2][0]] = 1\n",
    "    r_keymap[1] = len_map[2][0]\n",
    "    keymap[len_map[4][0]] = 4\n",
    "    r_keymap[4] = len_map[4][0]\n",
    "    keymap[len_map[3][0]] = 7\n",
    "    r_keymap[7] = len_map[3][0]\n",
    "    keymap[len_map[7][0]] = 8\n",
    "    r_keymap[8] = len_map[7][0]\n",
    "\n",
    "    diff_4_1 = r_keymap[4].replace(r_keymap[1][0], '').replace(r_keymap[1][1], '')\n",
    "    \n",
    "    for i, key in enumerate(len_map[5]):\n",
    "\n",
    "        if r_keymap[1][0] in key and r_keymap[1][1] in key:\n",
    "            # It's a 3\n",
    "            keymap[len_map[5][i]] = 3\n",
    "            r_keymap[3] = len_map[5][i]\n",
    "\n",
    "        else:\n",
    "            # A 5 or a 2\n",
    "            if diff_4_1[0] in key and diff_4_1[1] in key:\n",
    "                keymap[len_map[5][i]] = 5\n",
    "                r_keymap[5] = len_map[5][i]\n",
    "\n",
    "            else:\n",
    "                keymap[len_map[5][i]] = 2\n",
    "                r_keymap[2] = len_map[5][i]\n",
    "\n",
    "\n",
    "    for i, key in enumerate(len_map[6]):\n",
    "\n",
    "        if r_keymap[4][0] in key and r_keymap[4][1] in key and r_keymap[4][2] in key and r_keymap[4][3] in key:\n",
    "            # It's a 9\n",
    "            keymap[len_map[6][i]] = 9\n",
    "            r_keymap[9] = len_map[6][i]\n",
    "\n",
    "        else:\n",
    "            # A 5 or a 2\n",
    "            if diff_4_1[0] in key and diff_4_1[1] in key:\n",
    "                keymap[len_map[6][i]] = 6\n",
    "                r_keymap[6] = len_map[6][i]\n",
    "\n",
    "            else:\n",
    "                keymap[len_map[6][i]] = 0\n",
    "                r_keymap[0] = len_map[6][i]\n",
    "\n",
    "    val = 0\n",
    "    for i, d in enumerate(outline[::-1]):\n",
    "        val += 10**i * keymap[d]\n",
    "    total += val\n",
    "    \n",
    "print('Total', total)"
   ]
  },
  {
   "cell_type": "code",
   "execution_count": null,
   "id": "466693b7",
   "metadata": {},
   "outputs": [],
   "source": []
  }
 ],
 "metadata": {
  "kernelspec": {
   "display_name": "Python 3 (ipykernel)",
   "language": "python",
   "name": "python3"
  },
  "language_info": {
   "codemirror_mode": {
    "name": "ipython",
    "version": 3
   },
   "file_extension": ".py",
   "mimetype": "text/x-python",
   "name": "python",
   "nbconvert_exporter": "python",
   "pygments_lexer": "ipython3",
   "version": "3.10.4"
  }
 },
 "nbformat": 4,
 "nbformat_minor": 5
}

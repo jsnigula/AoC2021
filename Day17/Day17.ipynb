{
 "cells": [
  {
   "cell_type": "code",
   "execution_count": 1,
   "id": "a29ac777",
   "metadata": {},
   "outputs": [
    {
     "name": "stdout",
     "output_type": "stream",
     "text": [
      "Max height 5778 Max v 107\n",
      "N initial 2576\n"
     ]
    }
   ],
   "source": [
    "# target_x = (20,30)\n",
    "# target_y = (-5,-10)\n",
    "\n",
    "target_x = (169,206)\n",
    "target_y = (-68,-108)\n",
    "\n",
    "\n",
    "max_height = 0\n",
    "max_v = 0\n",
    "n_params = 0\n",
    "\n",
    "for vx in range(1,target_x[1]+1):\n",
    "# for vx in range(7,8):\n",
    "    over_reach = False\n",
    "    for vy in range(target_y[1]-1, abs(target_y[1])+1):\n",
    "    # for vy in range(2, 3):\n",
    "        curr_vx = vx\n",
    "        curr_vy = vy\n",
    "        curr_x, curr_y, mh, mv = 0, 0, 0, 0\n",
    "        while(curr_x<target_x[1] and curr_y>target_y[1]):\n",
    "            curr_x += curr_vx\n",
    "            curr_y += curr_vy\n",
    "            curr_vx = max(curr_vx-1, 0)\n",
    "            curr_vy -= 1\n",
    "            mh = max(curr_y, mh)\n",
    "            if target_x[0] <= curr_x <= target_x[1] and target_y[0] >= curr_y >= target_y[1]:\n",
    "                # We are in the target area\n",
    "                n_params += 1\n",
    "                if mh > max_height:\n",
    "                    max_height = mh\n",
    "                    max_v = vy\n",
    "                break\n",
    "            \n",
    "print('Max height', max_height, 'Max v', max_v)\n",
    "print('N initial', n_params)"
   ]
  },
  {
   "cell_type": "code",
   "execution_count": null,
   "id": "f791622f",
   "metadata": {},
   "outputs": [],
   "source": []
  }
 ],
 "metadata": {
  "kernelspec": {
   "display_name": "Python 3 (ipykernel)",
   "language": "python",
   "name": "python3"
  },
  "language_info": {
   "codemirror_mode": {
    "name": "ipython",
    "version": 3
   },
   "file_extension": ".py",
   "mimetype": "text/x-python",
   "name": "python",
   "nbconvert_exporter": "python",
   "pygments_lexer": "ipython3",
   "version": "3.10.4"
  }
 },
 "nbformat": 4,
 "nbformat_minor": 5
}

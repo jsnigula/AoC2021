{
 "cells": [
  {
   "cell_type": "code",
   "execution_count": 1,
   "id": "87c7e957",
   "metadata": {},
   "outputs": [],
   "source": [
    "import numpy as np"
   ]
  },
  {
   "cell_type": "code",
   "execution_count": 34,
   "id": "702162b8",
   "metadata": {},
   "outputs": [
    {
     "name": "stdout",
     "output_type": "stream",
     "text": [
      "Gamma rate 011000011101 1565\n",
      "Epsilon rate 100111100010 2530\n",
      "Power consumption 3959450\n",
      "\n",
      "\n",
      "Oxygen rate 011111110111 2039\n",
      "CO2 rate 111001000001 2530\n",
      "Life support rating 7440311\n"
     ]
    }
   ],
   "source": [
    "with open('input3.txt', 'r') as inf:\n",
    "    indata = [l.strip() for l in inf]\n",
    "    \n",
    "data = np.zeros((len(indata), len(indata[0])))\n",
    "\n",
    "for y, v in enumerate(indata):\n",
    "    for x, c in enumerate(v):\n",
    "        data[y, x] = int(c)\n",
    "    \n",
    "g_r = ''\n",
    "e_r = ''\n",
    "\n",
    "for i in range(data.shape[1]):\n",
    "    s = np.sum(data[:,i])\n",
    "    if s >= data.shape[0]/2:\n",
    "        g_r += '1'\n",
    "        e_r += '0'\n",
    "    else:\n",
    "        g_r += '0'\n",
    "        e_r += '1'\n",
    "\n",
    "print('Gamma rate', g_r, int(g_r, 2))\n",
    "print('Epsilon rate', e_r, int(e_r, 2))\n",
    "print('Power consumption', int(g_r, 2) * int(e_r, 2))\n",
    "\n",
    "# Part 2\n",
    "\n",
    "print('\\n')\n",
    "\n",
    "o_r = ''\n",
    "\n",
    "tmpdata = np.copy(data)\n",
    "for b in range(tmpdata.shape[1]):\n",
    "    s = np.sum(tmpdata[:,b])\n",
    "    if s >= tmpdata.shape[0]/2:\n",
    "        mcb = 1\n",
    "    else:\n",
    "        mcb = 0\n",
    "        \n",
    "    tmpdata = tmpdata[np.where(tmpdata[:,b] == mcb)]\n",
    "    if tmpdata.shape[0] == 1:\n",
    "        o_r = ''.join([str(int(i)) for i in tmpdata[0,:]])\n",
    "        \n",
    "c_r = ''\n",
    "\n",
    "tmpdata = np.copy(data)\n",
    "for b in range(tmpdata.shape[1]):\n",
    "    s = np.sum(tmpdata[:,b])\n",
    "    if s >= tmpdata.shape[0]/2:\n",
    "        lcb = 0\n",
    "    else:\n",
    "        lcb = 1\n",
    "        \n",
    "    tmpdata = tmpdata[np.where(tmpdata[:,b] == lcb)]\n",
    "    if tmpdata.shape[0] == 1:\n",
    "        c_r = ''.join([str(int(i)) for i in tmpdata[0,:]])\n",
    " \n",
    "print('Oxygen rate', o_r, int(o_r, 2))\n",
    "print('CO2 rate', c_r, int(e_r, 2))\n",
    "print('Life support rating', int(o_r, 2) * int(c_r, 2))"
   ]
  },
  {
   "cell_type": "code",
   "execution_count": null,
   "id": "cd94ab39",
   "metadata": {},
   "outputs": [],
   "source": []
  }
 ],
 "metadata": {
  "kernelspec": {
   "display_name": "Python 3 (ipykernel)",
   "language": "python",
   "name": "python3"
  },
  "language_info": {
   "codemirror_mode": {
    "name": "ipython",
    "version": 3
   },
   "file_extension": ".py",
   "mimetype": "text/x-python",
   "name": "python",
   "nbconvert_exporter": "python",
   "pygments_lexer": "ipython3",
   "version": "3.10.4"
  }
 },
 "nbformat": 4,
 "nbformat_minor": 5
}

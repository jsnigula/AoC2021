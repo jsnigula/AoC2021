{
 "cells": [
  {
   "cell_type": "code",
   "execution_count": 1,
   "id": "2e4d6a6b",
   "metadata": {},
   "outputs": [],
   "source": [
    "import numpy as np"
   ]
  },
  {
   "cell_type": "code",
   "execution_count": 5,
   "id": "5d5c40d9",
   "metadata": {},
   "outputs": [],
   "source": [
    "def read_board(infile):\n",
    "    board = np.zeros((5, 5))\n",
    "    result = np.zeros((5, 5))\n",
    "\n",
    "    line = infile.readline()\n",
    "\n",
    "    for i in range(0, 5):\n",
    "        line = infile.readline()\n",
    "        board[i,:] = [int(v) for v in line.split()]\n",
    "    return board, result"
   ]
  },
  {
   "cell_type": "code",
   "execution_count": 11,
   "id": "f179ccb2",
   "metadata": {},
   "outputs": [
    {
     "name": "stdout",
     "output_type": "stream",
     "text": [
      "Winner: 37\n",
      "Board sum: 835.0, winining number: 65, result: 54275.0\n"
     ]
    }
   ],
   "source": [
    "with open('input4.txt', 'r') as inf:\n",
    "    numbers = [int(v) for v in inf.readline().split(',')]\n",
    "    \n",
    "    boards = []\n",
    "    results = []\n",
    "    while True:\n",
    "        try:\n",
    "            b, r = read_board(inf)\n",
    "            boards.append(b)\n",
    "            results.append(r)\n",
    "        except Exception as e:\n",
    "            break\n",
    "    \n",
    "board_sum = 0\n",
    "drawn = 0\n",
    "    \n",
    "try:\n",
    "    for draw in numbers:\n",
    "        for i, board in enumerate(boards):\n",
    "            results[i][np.where(board == draw)] = 1\n",
    "            for j in range(0, 5):\n",
    "                if sum(results[i][j,:]) == 5 or sum(results[i][:,j]) == 5:\n",
    "                    print('Winner:', i)\n",
    "                    board_sum = sum(board[np.where(results[i] == 0)])\n",
    "                    drawn = draw\n",
    "                    raise Exception\n",
    "except:\n",
    "    pass\n",
    "    \n",
    "print('Board sum: {}, winining number: {}, result: {}'.format(board_sum, drawn, board_sum*drawn))"
   ]
  },
  {
   "cell_type": "code",
   "execution_count": 13,
   "id": "c963cd4d",
   "metadata": {},
   "outputs": [
    {
     "name": "stdout",
     "output_type": "stream",
     "text": [
      "Board sum: 258.0, winining number: 51, result: 13158.0\n"
     ]
    }
   ],
   "source": [
    "with open('input4.txt', 'r') as inf:\n",
    "    numbers = [int(v) for v in inf.readline().split(',')]\n",
    "    \n",
    "    boards = []\n",
    "    results = []\n",
    "    while True:\n",
    "        try:\n",
    "            b, r = read_board(inf)\n",
    "            boards.append(b)\n",
    "            results.append(r)\n",
    "        except Exception as e:\n",
    "            break\n",
    "    \n",
    "n_boards = len(boards)\n",
    "won = np.zeros(len(boards))\n",
    "board_sum = 0\n",
    "drawn = 0\n",
    "    \n",
    "try:\n",
    "    for draw in numbers:\n",
    "        for i, board in enumerate(boards):\n",
    "            results[i][np.where(board == draw)] = 1\n",
    "            for j in range(0, 5):\n",
    "                if sum(results[i][j,:]) == 5 or sum(results[i][:,j]) == 5:                        \n",
    "                    if won[i]:\n",
    "                        break\n",
    "                    board_sum = sum(board[np.where(results[i] == 0)])\n",
    "                    drawn = draw\n",
    "                    won[i] = 1\n",
    "                    if not np.any(won == 0):\n",
    "                        raise Exception\n",
    "except:\n",
    "    pass\n",
    "    \n",
    "print('Board sum: {}, winining number: {}, result: {}'.format(board_sum, drawn, board_sum*drawn))"
   ]
  },
  {
   "cell_type": "code",
   "execution_count": null,
   "id": "232104a7",
   "metadata": {},
   "outputs": [],
   "source": []
  }
 ],
 "metadata": {
  "kernelspec": {
   "display_name": "Python 3 (ipykernel)",
   "language": "python",
   "name": "python3"
  },
  "language_info": {
   "codemirror_mode": {
    "name": "ipython",
    "version": 3
   },
   "file_extension": ".py",
   "mimetype": "text/x-python",
   "name": "python",
   "nbconvert_exporter": "python",
   "pygments_lexer": "ipython3",
   "version": "3.10.4"
  }
 },
 "nbformat": 4,
 "nbformat_minor": 5
}

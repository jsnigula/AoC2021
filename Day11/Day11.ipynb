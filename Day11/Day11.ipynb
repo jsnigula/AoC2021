{
 "cells": [
  {
   "cell_type": "code",
   "execution_count": 2,
   "id": "ad2cf64b",
   "metadata": {},
   "outputs": [],
   "source": [
    "import numpy as np"
   ]
  },
  {
   "cell_type": "code",
   "execution_count": 5,
   "id": "16b77247",
   "metadata": {},
   "outputs": [
    {
     "name": "stdout",
     "output_type": "stream",
     "text": [
      "All flashed 346\n",
      "Total flashes 1694\n"
     ]
    }
   ],
   "source": [
    "raw_data = []\n",
    "with open('input11.txt', 'r') as inf:\n",
    "    for line in inf.readlines():\n",
    "        raw_data.append([int(i) for i in line.strip()])\n",
    "        \n",
    "data = np.array(raw_data)\n",
    "\n",
    "# print(data)\n",
    "\n",
    "def flash_octopus(y, x, data):\n",
    "    # print('Flashing at', y, x)\n",
    "    data[y, x] = -1e9  # Mark as flashed\n",
    "    for i in range(-1, 2):\n",
    "        for j in range(-1, 2):\n",
    "            if not (0 <= y+i < data.shape[0]):\n",
    "                continue\n",
    "            if not (0 <= x+j < data.shape[1]):\n",
    "                continue\n",
    "            # print(y+i, x+j)\n",
    "            # print(data)\n",
    "            data[y+i, x+j] += 1\n",
    "            # if data[y+i, x+j] > 9:\n",
    "            #     flash_octopus(y+i, x+j, data)\n",
    "\n",
    "total_flashes = 0\n",
    "for step in range(0,1000):\n",
    "    \n",
    "    data += 1\n",
    "    # First find all octopi flashing\n",
    "    \n",
    "    while True:\n",
    "        flash_y, flash_x = np.where(data > 9)\n",
    "\n",
    "        if not len(flash_y):\n",
    "            break\n",
    "\n",
    "        for f_y, f_x in zip(flash_y, flash_x):\n",
    "            flash_octopus(f_y, f_x, data)\n",
    "\n",
    "    n_flashed = data[np.where(data<0)].size\n",
    "    data[np.where(data<0)] = 0\n",
    "    \n",
    "    if data.size == n_flashed:\n",
    "        print('All flashed', step+1)\n",
    "        break\n",
    "\n",
    "    # print('In step', step+1, 'flashed', n_flashed)\n",
    "    # print('After step', step+1)\n",
    "    # print(data)\n",
    "    if step < 100:\n",
    "        total_flashes += n_flashed\n",
    "\n",
    "print('Total flashes', total_flashes)\n"
   ]
  },
  {
   "cell_type": "code",
   "execution_count": null,
   "id": "0df54a9b",
   "metadata": {},
   "outputs": [],
   "source": []
  }
 ],
 "metadata": {
  "kernelspec": {
   "display_name": "Python 3 (ipykernel)",
   "language": "python",
   "name": "python3"
  },
  "language_info": {
   "codemirror_mode": {
    "name": "ipython",
    "version": 3
   },
   "file_extension": ".py",
   "mimetype": "text/x-python",
   "name": "python",
   "nbconvert_exporter": "python",
   "pygments_lexer": "ipython3",
   "version": "3.10.4"
  }
 },
 "nbformat": 4,
 "nbformat_minor": 5
}

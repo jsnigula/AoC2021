{
 "cells": [
  {
   "cell_type": "code",
   "execution_count": 10,
   "id": "1c5932e9",
   "metadata": {},
   "outputs": [
    {
     "name": "stdout",
     "output_type": "stream",
     "text": [
      "N 1553\n",
      "N 1597\n"
     ]
    }
   ],
   "source": [
    "with open('input1.txt', 'r') as inf:\n",
    "    data = [int(line.strip()) for line in inf]\n",
    "    \n",
    "n_incr = 0\n",
    "\n",
    "last_data = 1e9\n",
    "\n",
    "for i in data:\n",
    "    if i > last_data:\n",
    "        n_incr += 1\n",
    "    last_data = i\n",
    "    \n",
    "print('N', n_incr)\n",
    "\n",
    "# Part 2\n",
    "\n",
    "last_data = 1e9\n",
    "n_incr = 0\n",
    "\n",
    "for i in range(1, len(data)-1):\n",
    "    v = sum(data[i-1:i+2])\n",
    "    if v > last_data:\n",
    "        n_incr += 1\n",
    "    last_data = v\n",
    "    \n",
    "print('N', n_incr)\n",
    "    "
   ]
  },
  {
   "cell_type": "code",
   "execution_count": null,
   "id": "56140f24",
   "metadata": {},
   "outputs": [],
   "source": []
  }
 ],
 "metadata": {
  "kernelspec": {
   "display_name": "Python 3 (ipykernel)",
   "language": "python",
   "name": "python3"
  },
  "language_info": {
   "codemirror_mode": {
    "name": "ipython",
    "version": 3
   },
   "file_extension": ".py",
   "mimetype": "text/x-python",
   "name": "python",
   "nbconvert_exporter": "python",
   "pygments_lexer": "ipython3",
   "version": "3.10.4"
  }
 },
 "nbformat": 4,
 "nbformat_minor": 5
}

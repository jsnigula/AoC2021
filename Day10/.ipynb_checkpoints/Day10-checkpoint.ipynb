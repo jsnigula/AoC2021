{
 "cells": [
  {
   "cell_type": "code",
   "execution_count": 3,
   "id": "15a17878",
   "metadata": {},
   "outputs": [
    {
     "name": "stdout",
     "output_type": "stream",
     "text": [
      "Total score 392367\n",
      "Autocomplete score, 2192104158\n"
     ]
    }
   ],
   "source": [
    "delim_map = {'(': ')',\n",
    "            '[': ']',\n",
    "            '{': '}',\n",
    "            '<': '>'}\n",
    "\n",
    "score_map = {')': 3,\n",
    "            ']': 57, \n",
    "            '}': 1197,\n",
    "            '>': 25137}\n",
    "\n",
    "ac_score_map = {')': 1,\n",
    "                ']': 2, \n",
    "                '}': 3,\n",
    "                '>': 4}\n",
    "\n",
    "score = 0\n",
    "ac_scores = []\n",
    "with open('input10.txt', 'r') as inf:\n",
    "    for line in inf.readlines():\n",
    "        corrupted = False\n",
    "        open_chunks = []\n",
    "        for delim in line.strip():\n",
    "            if delim in delim_map:\n",
    "                # Open chunk\n",
    "                open_chunks.append(delim_map[delim])\n",
    "            else:\n",
    "                expected = open_chunks.pop()\n",
    "                if delim != expected:\n",
    "                    # Found corruption\n",
    "                    # print(line, 'is corrupted, found', delim, 'not ', expected)\n",
    "                    score += score_map[delim]\n",
    "                    corrupted = True\n",
    "                    break\n",
    "        if corrupted:\n",
    "            continue\n",
    "        # Incomplete line\n",
    "        ac_score = 0\n",
    "        # print(line, 'is incomplete')\n",
    "\n",
    "        for d in open_chunks[::-1]:            \n",
    "            # print('Scoring, ', d)\n",
    "            ac_score = ac_score*5 + ac_score_map[d]\n",
    "        ac_scores.append(ac_score)\n",
    "        \n",
    "ac_scores.sort()\n",
    "# print(ac_scores)\n",
    "                        \n",
    "print('Total score', score)\n",
    "\n",
    "print('Autocomplete score,', ac_scores[int((len(ac_scores)-1)/2)])\n"
   ]
  },
  {
   "cell_type": "code",
   "execution_count": null,
   "id": "2f69b206",
   "metadata": {},
   "outputs": [],
   "source": []
  }
 ],
 "metadata": {
  "kernelspec": {
   "display_name": "Python 3 (ipykernel)",
   "language": "python",
   "name": "python3"
  },
  "language_info": {
   "codemirror_mode": {
    "name": "ipython",
    "version": 3
   },
   "file_extension": ".py",
   "mimetype": "text/x-python",
   "name": "python",
   "nbconvert_exporter": "python",
   "pygments_lexer": "ipython3",
   "version": "3.10.4"
  }
 },
 "nbformat": 4,
 "nbformat_minor": 5
}

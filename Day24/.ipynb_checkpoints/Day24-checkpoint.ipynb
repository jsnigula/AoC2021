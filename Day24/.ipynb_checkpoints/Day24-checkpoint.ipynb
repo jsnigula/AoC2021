{
 "cells": [
  {
   "cell_type": "markdown",
   "metadata": {},
   "source": [
    "Day 24"
   ]
  },
  {
   "cell_type": "code",
   "execution_count": 1,
   "metadata": {},
   "outputs": [
    {
     "name": "stdout",
     "output_type": "stream",
     "text": [
      "Digit  1 ... unique z states: 9 \n",
      "Digit  2 ... unique z states: 81 \n",
      "Digit  3 ... unique z states: 729 \n",
      "Digit  4 ... unique z states: 810 \n",
      "Digit  5 ... unique z states: 7290 \n",
      "Digit  6 ... unique z states: 65610 \n",
      "Digit  7 ... unique z states: 72576 \n",
      "Digit  8 ... unique z states: 76545 \n",
      "Digit  9 ... unique z states: 688905 \n",
      "Digit 10 ... unique z states: 733131 \n",
      "Digit 11 ... unique z states: 6598179 \n",
      "Digit 12 ... "
     ]
    },
    {
     "ename": "KeyboardInterrupt",
     "evalue": "",
     "output_type": "error",
     "traceback": [
      "\u001b[0;31m---------------------------------------------------------------------------\u001b[0m",
      "\u001b[0;31mKeyboardInterrupt\u001b[0m                         Traceback (most recent call last)",
      "Input \u001b[0;32mIn [1]\u001b[0m, in \u001b[0;36m<cell line: 62>\u001b[0;34m()\u001b[0m\n\u001b[1;32m     65\u001b[0m \u001b[38;5;28;01mfor\u001b[39;00m z \u001b[38;5;129;01min\u001b[39;00m zMap[i]\u001b[38;5;241m.\u001b[39mkeys():\n\u001b[1;32m     66\u001b[0m     \u001b[38;5;28;01mfor\u001b[39;00m w \u001b[38;5;129;01min\u001b[39;00m \u001b[38;5;28mrange\u001b[39m(\u001b[38;5;241m1\u001b[39m, \u001b[38;5;241m10\u001b[39m):\n\u001b[0;32m---> 67\u001b[0m         zn \u001b[38;5;241m=\u001b[39m \u001b[43mfunc_map\u001b[49m\u001b[43m[\u001b[49m\u001b[43mi\u001b[49m\u001b[38;5;241;43m+\u001b[39;49m\u001b[38;5;241;43m1\u001b[39;49m\u001b[43m]\u001b[49m\u001b[43m(\u001b[49m\u001b[43mw\u001b[49m\u001b[43m,\u001b[49m\u001b[43m \u001b[49m\u001b[43mz\u001b[49m\u001b[43m)\u001b[49m\n\u001b[1;32m     68\u001b[0m         next_zMap[zn]\u001b[38;5;241m.\u001b[39mappend((w, z))\n\u001b[1;32m     69\u001b[0m \u001b[38;5;28mprint\u001b[39m(\u001b[38;5;124m\"\u001b[39m\u001b[38;5;124munique z states: \u001b[39m\u001b[38;5;132;01m{}\u001b[39;00m\u001b[38;5;124m \u001b[39m\u001b[38;5;124m\"\u001b[39m\u001b[38;5;241m.\u001b[39mformat(\u001b[38;5;28mlen\u001b[39m(next_zMap\u001b[38;5;241m.\u001b[39mkeys())))\n",
      "File \u001b[0;32m<string>:3\u001b[0m, in \u001b[0;36mf12\u001b[0;34m(w, z)\u001b[0m\n",
      "\u001b[0;31mKeyboardInterrupt\u001b[0m: "
     ]
    }
   ],
   "source": [
    "from collections import defaultdict\n",
    "\n",
    "function_template = '''\n",
    "global f{fnum}\n",
    "def f{fnum}(w, z):\n",
    "    x = 0\n",
    "    y = 0\n",
    "{instructions}\n",
    "    return z\n",
    "'''\n",
    "\n",
    "func = ''\n",
    "instr = ''\n",
    "func_map = {}\n",
    "func_counter = 1\n",
    "with open('input24.txt', 'r') as inp:\n",
    "    for line in inp.readlines():\n",
    "        cmd = line.strip().split()\n",
    "        if cmd[0] == 'add':\n",
    "            v1, v2 = cmd[1:]\n",
    "            func += '    {} += {}\\n'.format(v1, v2)\n",
    "            continue\n",
    "        elif cmd[0] == 'mul':\n",
    "            v1, v2 = cmd[1:]\n",
    "            func += '    {} *= {}\\n'.format(v1, v2)\n",
    "            continue\n",
    "        elif cmd[0] == 'div':\n",
    "            v1, v2 = cmd[1:]\n",
    "            func += '    {a} = int({a}/{b})\\n'.format(a=v1, b=v2)\n",
    "            continue\n",
    "        elif cmd[0] == 'mod':\n",
    "            v1, v2 = cmd[1:]\n",
    "            func += '    {} %= {}\\n'.format(v1, v2)\n",
    "            continue\n",
    "        elif cmd[0] == 'eql':\n",
    "            v1, v2 = cmd[1:]\n",
    "            func += '    {a} = 1 if {a} == {b} else 0\\n'.format(a=v1, b=v2)\n",
    "            continue\n",
    "        elif cmd[0] == 'inp':\n",
    "            if func != '':\n",
    "                exec(function_template.format(fnum=func_counter, instructions=func))\n",
    "                func_map[func_counter] = globals()['f{}'.format(func_counter)]\n",
    "                func = ''\n",
    "                instr = ''\n",
    "                func_counter += 1\n",
    "\n",
    "if func != '':\n",
    "    exec(function_template.format(fnum=func_counter, instructions=func))\n",
    "    func_map[func_counter] = globals()['f{}'.format(func_counter)]\n",
    "    func = ''\n",
    "    instr = ''\n",
    "    func_counter += 1\n",
    "    \n",
    "tested = []\n",
    "known_vals = {}\n",
    "\n",
    "zMap = []\n",
    "\n",
    "zMap.append(defaultdict(list))\n",
    "zMap[0][0] = []\n",
    "\n",
    "for i in range(0, 14):\n",
    "    print(\"Digit {:2d} ... \".format(i+1),end=\"\")\n",
    "    next_zMap = defaultdict(list)\n",
    "    for z in zMap[i].keys():\n",
    "        for w in range(1, 10):\n",
    "            zn = func_map[i+1](w, z)\n",
    "            next_zMap[zn].append((w, z))\n",
    "    print(\"unique z states: {} \".format(len(next_zMap.keys())))\n",
    "    zMap.append(next_zMap)"
   ]
  },
  {
   "cell_type": "code",
   "execution_count": 2,
   "metadata": {},
   "outputs": [
    {
     "ename": "IndexError",
     "evalue": "list index out of range",
     "output_type": "error",
     "traceback": [
      "\u001b[0;31m---------------------------------------------------------------------------\u001b[0m",
      "\u001b[0;31mIndexError\u001b[0m                                Traceback (most recent call last)",
      "Input \u001b[0;32mIn [2]\u001b[0m, in \u001b[0;36m<cell line: 3>\u001b[0;34m()\u001b[0m\n\u001b[1;32m      2\u001b[0m ztarget \u001b[38;5;241m=\u001b[39m \u001b[38;5;241m0\u001b[39m\n\u001b[1;32m      3\u001b[0m \u001b[38;5;28;01mfor\u001b[39;00m i \u001b[38;5;129;01min\u001b[39;00m \u001b[38;5;28mrange\u001b[39m(\u001b[38;5;241m14\u001b[39m,\u001b[38;5;241m0\u001b[39m,\u001b[38;5;241m-\u001b[39m\u001b[38;5;241m1\u001b[39m):\n\u001b[0;32m----> 4\u001b[0m     dmax,zmax \u001b[38;5;241m=\u001b[39m \u001b[38;5;28mmax\u001b[39m(\u001b[43mzMap\u001b[49m\u001b[43m[\u001b[49m\u001b[43mi\u001b[49m\u001b[43m]\u001b[49m[ztarget])\n\u001b[1;32m      5\u001b[0m     digits\u001b[38;5;241m.\u001b[39mappend(dmax)\n\u001b[1;32m      6\u001b[0m     \u001b[38;5;28mprint\u001b[39m(\u001b[38;5;124m\"\u001b[39m\u001b[38;5;124mDigit \u001b[39m\u001b[38;5;132;01m{:2d}\u001b[39;00m\u001b[38;5;124m = \u001b[39m\u001b[38;5;132;01m{}\u001b[39;00m\u001b[38;5;124m -> previous z value = \u001b[39m\u001b[38;5;132;01m{}\u001b[39;00m\u001b[38;5;124m\"\u001b[39m\u001b[38;5;241m.\u001b[39mformat(i,dmax,zmax))\n",
      "\u001b[0;31mIndexError\u001b[0m: list index out of range"
     ]
    }
   ],
   "source": [
    "digits = []\n",
    "ztarget = 0\n",
    "for i in range(14,0,-1):\n",
    "    dmax,zmax = max(zMap[i][ztarget])\n",
    "    digits.append(dmax)\n",
    "    print(\"Digit {:2d} = {} -> previous z value = {}\".format(i,dmax,zmax))\n",
    "    ztarget = zmax\n",
    "digits = digits[::-1]\n",
    "\n",
    "print(\"\\nPart 1:\",\"\".join([str(d) for d in digits]))"
   ]
  },
  {
   "cell_type": "code",
   "execution_count": 9,
   "metadata": {},
   "outputs": [
    {
     "name": "stdout",
     "output_type": "stream",
     "text": [
      "Digit 14 = 1 -> previous z value = 12\n",
      "Digit 13 = 8 -> previous z value = 320\n",
      "Digit 12 = 1 -> previous z value = 8322\n",
      "Digit 11 = 2 -> previous z value = 320\n",
      "Digit 10 = 1 -> previous z value = 8332\n",
      "Digit  9 = 6 -> previous z value = 320\n",
      "Digit  8 = 3 -> previous z value = 8335\n",
      "Digit  7 = 4 -> previous z value = 216718\n",
      "Digit  6 = 1 -> previous z value = 8335\n",
      "Digit  5 = 1 -> previous z value = 320\n",
      "Digit  4 = 1 -> previous z value = 8325\n",
      "Digit  3 = 4 -> previous z value = 320\n",
      "Digit  2 = 1 -> previous z value = 12\n",
      "Digit  1 = 9 -> previous z value = 0\n",
      "\n",
      "Part 2: 91411143612181\n"
     ]
    }
   ],
   "source": [
    "digits = []\n",
    "ztarget = 0\n",
    "for i in range(14,0,-1):\n",
    "    dmin,zmin = min(zMap[i][ztarget])\n",
    "    digits.append(dmin)\n",
    "    print(\"Digit {:2d} = {} -> previous z value = {}\".format(i,dmin,zmin))\n",
    "    ztarget = zmin\n",
    "digits = digits[::-1]\n",
    "\n",
    "print(\"\\nPart 2:\",\"\".join([str(d) for d in digits]))"
   ]
  },
  {
   "cell_type": "code",
   "execution_count": null,
   "metadata": {},
   "outputs": [],
   "source": []
  }
 ],
 "metadata": {
  "kernelspec": {
   "display_name": "Python 3 (ipykernel)",
   "language": "python",
   "name": "python3"
  },
  "language_info": {
   "codemirror_mode": {
    "name": "ipython",
    "version": 3
   },
   "file_extension": ".py",
   "mimetype": "text/x-python",
   "name": "python",
   "nbconvert_exporter": "python",
   "pygments_lexer": "ipython3",
   "version": "3.10.4"
  }
 },
 "nbformat": 4,
 "nbformat_minor": 4
}
